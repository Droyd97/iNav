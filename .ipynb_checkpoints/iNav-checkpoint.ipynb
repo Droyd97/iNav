{
 "cells": [
  {
   "cell_type": "code",
   "execution_count": 1,
   "id": "fb521168",
   "metadata": {},
   "outputs": [],
   "source": [
    "%load_ext autoreload\n",
    "%autoreload 2\n",
    "\n",
    "import os\n",
    "from ETFiNavSimulator import *\n",
    "import utils\n",
    "import etf_lists\n",
    "\n"
   ]
  },
  {
   "cell_type": "code",
   "execution_count": 16,
   "id": "a93272a1",
   "metadata": {},
   "outputs": [
    {
     "name": "stdout",
     "output_type": "stream",
     "text": [
      "IBTS\n",
      "IBTMXX\n",
      "SHYU\n",
      "IHYMXX\n",
      "IBTU\n",
      "SDIG\n",
      "LQDE\n",
      "LQGH\n",
      "LQDMX\n",
      "IBTM\n",
      "SUAG\n",
      "IUAE\n",
      "CBUE\n",
      "I37MX\n",
      "DTLA\n",
      "DTMXX\n",
      "SDHA\n",
      "DHYD\n",
      "UEEF\n",
      "TI5G\n",
      "ERNMX\n",
      "HLQD\n",
      "GOVT\n",
      "UEDD\n",
      "ERNA\n"
     ]
    }
   ],
   "source": [
    "# Download all xls files from etf provider\n",
    "utils.get_files(etf_lists.ishares_etf_list, 'ishares')\n",
    "\n",
    "# Load sheets\n",
    "etf_worksheets = utils.load_sheets('ishare_etfs/', etf_lists.ishares_etf_list)"
   ]
  },
  {
   "cell_type": "code",
   "execution_count": 88,
   "id": "21197e9f",
   "metadata": {},
   "outputs": [
    {
     "name": "stdout",
     "output_type": "stream",
     "text": [
      "25\n"
     ]
    }
   ],
   "source": [
    "# print(etf_worksheets['ERNA'][1][['Issuer Ticker', 'Price']])\n",
    "prices, initial_nav, shares_outstanding = utils.generate_price_list(etf_worksheets)\n",
    "# prices = prices[prices['Price'] != 0]\n",
    "print(len(etf_worksheets))\n",
    "# print(prices[prices['Issuer Ticker'] == 'QHC'])"
   ]
  },
  {
   "cell_type": "code",
   "execution_count": 89,
   "id": "ce5dbb8c",
   "metadata": {},
   "outputs": [],
   "source": [
    "# Generate holdings matrix\n",
    "holdings_matrix = utils.generate_holdings_matrix(prices, etf_worksheets)"
   ]
  },
  {
   "cell_type": "code",
   "execution_count": 90,
   "id": "bcb3a099",
   "metadata": {},
   "outputs": [
    {
     "name": "stdout",
     "output_type": "stream",
     "text": [
      "[]\n",
      "[1.34068460e+02 6.16338339e+03 1.03511535e+02 6.59524380e+02\n",
      " 5.01878979e+00 1.03925821e+02 1.29259669e+02 5.53665386e+00\n",
      " 6.04209704e+03 2.14855234e+02 1.10541750e+02 5.44068310e+00\n",
      " 5.15309517e+00 5.09971984e+03 6.80654064e+00 4.93950220e+03\n",
      " 5.77452016e+00 5.21240860e+00 5.36198186e+00 5.03108815e+00\n",
      " 5.15085840e+03 5.57939550e+00 5.13352063e+00 5.01505961e+00\n",
      " 5.29449932e+00]\n",
      "[134.06846029211474, 6163.383386025318, 103.51153513936897, 659.5243800165811, 5.018789793731617, 103.92582106760285, 129.25966864364764, 5.536653861041992, 6042.097038461538, 214.85523449462994, 110.54174964409009, 5.440683097827994, 5.153095168758234, 5099.719841609172, 6.80654063522673, 4939.5022, 5.774520158198239, 5.212408597728833, 5.361981855745925, 5.0310881499875935, 5150.8584, 5.579395497730884, 5.133520634952518, 5.015059607142857, 5.294499324091369]\n",
      "[134.06846029211474, 6163.383386025318, 103.51153513936897, 659.5243800165811, 5.018789793731617, 103.92582106760285, 129.25966864364764, 5.536653861041992, 6042.097038461538, 214.85523449462994, 110.54174964409009, 5.440683097827994, 5.153095168758234, 5099.719841609172, 6.80654063522673, 4939.5022, 5.774520158198239, 5.212408597728833, 5.361981855745925, 5.0310881499875935, 5150.8584, 5.579395497730884, 5.133520634952518, 5.015059607142857, 5.294499324091369]\n",
      "[26405171.0, 2203814.0, 41125582.0, 10023510.0, 26957355.0, 19574320.0, 31417264.0, 11836986.0, 1040.0, 16003778.0, 9869773.0, 47968693.0, 31832106.0, 61746.0, 43489889.0, 50.0, 101380142.0, 72686405.0, 78328158.0, 41987686.0, 50.0, 51853453.0, 3484985.0, 1960000.0, 103699667.0]\n",
      "[104.62 105.02 103.76 ... 100.12  99.96 100.79]\n"
     ]
    }
   ],
   "source": [
    "# print(np.count_nonzero(holdings_matrix==0))\n",
    "# print(holdings_matrix.shape[0] * holdings_matrix.shape[1])\n",
    "etfs = ETFiNavSimulator(initial_nav, prices['Price'].to_numpy(), holdings_matrix, shares_outstanding)\n",
    "etfs.run_simulation()\n",
    "print(etfs.inav.tolist())\n",
    "# print(etfs.initial_nav)\n",
    "# print(etfs.out_shares)\n",
    "# print(etfs.prices)"
   ]
  },
  {
   "cell_type": "code",
   "execution_count": null,
   "id": "abba716e",
   "metadata": {},
   "outputs": [],
   "source": []
  }
 ],
 "metadata": {
  "kernelspec": {
   "display_name": "Python 3",
   "language": "python",
   "name": "python3"
  },
  "language_info": {
   "codemirror_mode": {
    "name": "ipython",
    "version": 3
   },
   "file_extension": ".py",
   "mimetype": "text/x-python",
   "name": "python",
   "nbconvert_exporter": "python",
   "pygments_lexer": "ipython3",
   "version": "3.9.1"
  }
 },
 "nbformat": 4,
 "nbformat_minor": 5
}
